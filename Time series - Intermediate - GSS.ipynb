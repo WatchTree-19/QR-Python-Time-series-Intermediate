{
  "cells": [
    {
      "cell_type": "code",
      "execution_count": 2,
      "id": "320e9abd-c965-46ed-8445-59c45626d132",
      "metadata": {},
      "outputs": [],
      "source": [
        "import pandas as pd\n",
        "import numpy as np\n",
        "import matplotlib.pyplot as plt\n",
        "%matplotlib inline\n",
        "import statsmodels.api as sm\n",
        "import statsmodels.formula.api as smf\n",
        "from scipy import stats\n",
        "import os"
      ]
    },
    {
      "cell_type": "code",
      "execution_count": 15,
      "id": "aa72d079-42ac-4a8f-8c80-01e72663f08e",
      "metadata": {},
      "outputs": [],
      "source": [
        "os.chdir(r'G:\\My Drive\\Master\\Documents\\Academia\\Columbia-Postgraduate\\QMSS\\Res_unit_1\\Time series\\Assignments\\Lab 2') # change working directory\n",
        "pan = pd.read_csv(\"panel-for-R.csv\")"
      ]
    },
    {
      "cell_type": "code",
      "execution_count": 16,
      "id": "31493bba-5da0-405c-88fc-ce05a786c832",
      "metadata": {},
      "outputs": [],
      "source": [
        "variables = ['marital', 'age', 'year', 'sex', 'idnum', 'panelwave', 'degree', 'region']\n",
        "sub = pan[variables].copy()\n",
        "\n",
        "sub['av'] = np.where(pd.isna(sub['marital']), np.nan, \n",
        "                     np.where(sub['marital']==1, 1, 0))"
      ]
    },
    {
      "cell_type": "code",
      "execution_count": 17,
      "id": "a61fbea2-d1dc-4638-9d34-bbd71f003bbe",
      "metadata": {},
      "outputs": [],
      "source": [
        "# drop people working full-time in wave 1\n",
        "sub['drop'] = np.where((sub['av']==1) & (sub['panelwave']==1), 1, 0)"
      ]
    },
    {
      "cell_type": "code",
      "execution_count": 18,
      "id": "f75ecc42-7251-4e36-ae20-b5faaa6e72ad",
      "metadata": {},
      "outputs": [],
      "source": [
        "# get idnum of subjects we're going to drop\n",
        "drop_idnum = sub.idnum[sub['drop']==1].unique()"
      ]
    },
    {
      "cell_type": "code",
      "execution_count": 19,
      "id": "aa297d39-8987-4692-b7d2-202dabe1306c",
      "metadata": {},
      "outputs": [],
      "source": [
        "# subset the sub dataframe to include subjects whose idnum is not in the drop_idnum list\n",
        "subpt = sub.loc[~sub['idnum'].isin(drop_idnum)].copy()"
      ]
    },
    {
      "cell_type": "code",
      "execution_count": 21,
      "id": "ca5fa6fc-3d4c-4f47-9a4d-dbb28c666797",
      "metadata": {},
      "outputs": [],
      "source": [
        "subpt['ytwo'] = np.where(pd.isna(subpt['av']), np.nan, \n",
        "                         np.where((subpt['av']==1) & (subpt['panelwave']==2), 2, 0))\n",
        "subpt_two = subpt.loc[subpt['ytwo']==2, 'idnum'].unique()\n",
        "subpt['ytwo_two'] = np.where(subpt['idnum'].isin(subpt_two), 2, 0)\n",
        "\n",
        "subpt['ythree'] = np.where(pd.isna(subpt['av']), np.nan, \n",
        "                         np.where((subpt['av']==1) & (subpt['panelwave']==3), 3, 0))\n",
        "subpt_three = subpt.loc[subpt['ythree']==3, 'idnum'].unique() \n",
        "subpt['ythree_three'] = np.where(subpt['idnum'].isin(subpt_three), 3, 0)"
      ]
    },
    {
      "cell_type": "code",
      "execution_count": 22,
      "id": "63f5a2ab-baf0-45d0-96b5-81311328abb3",
      "metadata": {},
      "outputs": [],
      "source": [
        "subpt.loc[:, 'combo'] = subpt['ytwo_two'].astype(str) + subpt['ythree_three'].astype(str)"
      ]
    },
    {
      "cell_type": "code",
      "execution_count": 23,
      "id": "728f0f9e-e13a-445f-b682-b22295f0291e",
      "metadata": {},
      "outputs": [
        {
          "data": {
            "text/plain": [
              "00    2847\n",
              "23     138\n",
              "03     102\n",
              "20      87\n",
              "Name: combo, dtype: int64"
            ]
          },
          "execution_count": 23,
          "metadata": {},
          "output_type": "execute_result"
        }
      ],
      "source": [
        "subpt['combo'].value_counts()"
      ]
    },
    {
      "cell_type": "code",
      "execution_count": 24,
      "id": "b3f1de2d-e12b-4627-a271-42f0af52100c",
      "metadata": {},
      "outputs": [
        {
          "data": {
            "text/plain": [
              "av   combo\n",
              "0.0  00       2151\n",
              "     03         68\n",
              "     20         42\n",
              "     23         46\n",
              "1.0  03         34\n",
              "     20         29\n",
              "     23         92\n",
              "dtype: int64"
            ]
          },
          "execution_count": 24,
          "metadata": {},
          "output_type": "execute_result"
        }
      ],
      "source": [
        "subpt.groupby(['av', 'combo']).size()"
      ]
    },
    {
      "cell_type": "code",
      "execution_count": 25,
      "id": "c8ca2aa8-bbf1-470d-bf53-ff45eadbda81",
      "metadata": {},
      "outputs": [
        {
          "data": {
            "text/plain": [
              "av   combo\n",
              "0.0  00       2151\n",
              "     03         68\n",
              "     20         29\n",
              "     23         46\n",
              "1.0  03         34\n",
              "     20         29\n",
              "     23         46\n",
              "dtype: int64"
            ]
          },
          "execution_count": 25,
          "metadata": {},
          "output_type": "execute_result"
        }
      ],
      "source": [
        "# (slide 43)\n",
        "subpt.loc[(subpt['combo']=='20') & (subpt['year']==2010), 'av'] = np.nan\n",
        "subpt.loc[(subpt['combo']=='23') & (subpt['year']==2010), 'av'] = np.nan\n",
        "subpt.groupby(['av', 'combo']).size()"
      ]
    },
    {
      "cell_type": "code",
      "execution_count": 46,
      "id": "4960b1b2-4e7a-4332-8be0-85161fe4dc68",
      "metadata": {},
      "outputs": [
        {
          "data": {
            "text/html": [
              "<table class=\"simpletable\">\n",
              "<caption>Generalized Linear Model Regression Results</caption>\n",
              "<tr>\n",
              "  <th>Dep. Variable:</th>          <td>av</td>        <th>  No. Observations:  </th>  <td>  1330</td> \n",
              "</tr>\n",
              "<tr>\n",
              "  <th>Model:</th>                  <td>GLM</td>       <th>  Df Residuals:      </th>  <td>  1328</td> \n",
              "</tr>\n",
              "<tr>\n",
              "  <th>Model Family:</th>        <td>Binomial</td>     <th>  Df Model:          </th>  <td>     1</td> \n",
              "</tr>\n",
              "<tr>\n",
              "  <th>Link Function:</th>         <td>Logit</td>      <th>  Scale:             </th> <td>  1.0000</td>\n",
              "</tr>\n",
              "<tr>\n",
              "  <th>Method:</th>                <td>IRLS</td>       <th>  Log-Likelihood:    </th> <td> -373.81</td>\n",
              "</tr>\n",
              "<tr>\n",
              "  <th>Date:</th>            <td>Sat, 12 Nov 2022</td> <th>  Deviance:          </th> <td>  747.61</td>\n",
              "</tr>\n",
              "<tr>\n",
              "  <th>Time:</th>                <td>17:18:01</td>     <th>  Pearson chi2:      </th> <td>1.33e+03</td>\n",
              "</tr>\n",
              "<tr>\n",
              "  <th>No. Iterations:</th>          <td>6</td>        <th>  Pseudo R-squ. (CS):</th> <td>0.004911</td>\n",
              "</tr>\n",
              "<tr>\n",
              "  <th>Covariance Type:</th>     <td>nonrobust</td>    <th>                     </th>     <td> </td>   \n",
              "</tr>\n",
              "</table>\n",
              "<table class=\"simpletable\">\n",
              "<tr>\n",
              "         <td></td>            <th>coef</th>     <th>std err</th>      <th>z</th>      <th>P>|z|</th>  <th>[0.025</th>    <th>0.975]</th>  \n",
              "</tr>\n",
              "<tr>\n",
              "  <th>Intercept</th>       <td>   -2.2163</td> <td>    0.122</td> <td>  -18.226</td> <td> 0.000</td> <td>   -2.455</td> <td>   -1.978</td>\n",
              "</tr>\n",
              "<tr>\n",
              "  <th>C(nyear)[T.4.0]</th> <td>   -0.5359</td> <td>    0.215</td> <td>   -2.496</td> <td> 0.013</td> <td>   -0.957</td> <td>   -0.115</td>\n",
              "</tr>\n",
              "</table>"
            ],
            "text/plain": [
              "<class 'statsmodels.iolib.summary.Summary'>\n",
              "\"\"\"\n",
              "                 Generalized Linear Model Regression Results                  \n",
              "==============================================================================\n",
              "Dep. Variable:                     av   No. Observations:                 1330\n",
              "Model:                            GLM   Df Residuals:                     1328\n",
              "Model Family:                Binomial   Df Model:                            1\n",
              "Link Function:                  Logit   Scale:                          1.0000\n",
              "Method:                          IRLS   Log-Likelihood:                -373.81\n",
              "Date:                Sat, 12 Nov 2022   Deviance:                       747.61\n",
              "Time:                        17:18:01   Pearson chi2:                 1.33e+03\n",
              "No. Iterations:                     6   Pseudo R-squ. (CS):           0.004911\n",
              "Covariance Type:            nonrobust                                         \n",
              "===================================================================================\n",
              "                      coef    std err          z      P>|z|      [0.025      0.975]\n",
              "-----------------------------------------------------------------------------------\n",
              "Intercept          -2.2163      0.122    -18.226      0.000      -2.455      -1.978\n",
              "C(nyear)[T.4.0]    -0.5359      0.215     -2.496      0.013      -0.957      -0.115\n",
              "===================================================================================\n",
              "\"\"\""
            ]
          },
          "execution_count": 46,
          "metadata": {},
          "output_type": "execute_result"
        }
      ],
      "source": [
        "lo2 = smf.glm('av ~ C(nyear)', \n",
        "              data = subpt[(subpt.year > 2006) & (subpt.age > 18)],\n",
        "              family = sm.families.Binomial()).fit()\n",
        "lo2.summary()"
      ]
    },
    {
      "cell_type": "code",
      "execution_count": 47,
      "id": "ae6ba595-eb6d-4880-96a4-e29534baf7bf",
      "metadata": {},
      "outputs": [
        {
          "data": {
            "text/plain": [
              "Intercept          0.109012\n",
              "C(nyear)[T.4.0]    0.585166\n",
              "dtype: float64"
            ]
          },
          "execution_count": 47,
          "metadata": {},
          "output_type": "execute_result"
        }
      ],
      "source": [
        "# slide 47\n",
        "np.exp(lo2.params)"
      ]
    },
    {
      "cell_type": "code",
      "execution_count": 43,
      "id": "f4eba98f-1879-4488-b6f4-0051b113e5b1",
      "metadata": {},
      "outputs": [
        {
          "data": {
            "text/html": [
              "<table class=\"simpletable\">\n",
              "<caption>Generalized Linear Model Regression Results</caption>\n",
              "<tr>\n",
              "  <th>Dep. Variable:</th>          <td>av</td>        <th>  No. Observations:  </th>  <td>  1330</td> \n",
              "</tr>\n",
              "<tr>\n",
              "  <th>Model:</th>                  <td>GLM</td>       <th>  Df Residuals:      </th>  <td>  1325</td> \n",
              "</tr>\n",
              "<tr>\n",
              "  <th>Model Family:</th>        <td>Binomial</td>     <th>  Df Model:          </th>  <td>     4</td> \n",
              "</tr>\n",
              "<tr>\n",
              "  <th>Link Function:</th>         <td>Logit</td>      <th>  Scale:             </th> <td>  1.0000</td>\n",
              "</tr>\n",
              "<tr>\n",
              "  <th>Method:</th>                <td>IRLS</td>       <th>  Log-Likelihood:    </th> <td> -342.61</td>\n",
              "</tr>\n",
              "<tr>\n",
              "  <th>Date:</th>            <td>Sat, 12 Nov 2022</td> <th>  Deviance:          </th> <td>  685.22</td>\n",
              "</tr>\n",
              "<tr>\n",
              "  <th>Time:</th>                <td>17:15:35</td>     <th>  Pearson chi2:      </th> <td>1.26e+03</td>\n",
              "</tr>\n",
              "<tr>\n",
              "  <th>No. Iterations:</th>          <td>6</td>        <th>  Pseudo R-squ. (CS):</th>  <td>0.05051</td>\n",
              "</tr>\n",
              "<tr>\n",
              "  <th>Covariance Type:</th>     <td>nonrobust</td>    <th>                     </th>     <td> </td>   \n",
              "</tr>\n",
              "</table>\n",
              "<table class=\"simpletable\">\n",
              "<tr>\n",
              "         <td></td>            <th>coef</th>     <th>std err</th>      <th>z</th>      <th>P>|z|</th>  <th>[0.025</th>    <th>0.975]</th>  \n",
              "</tr>\n",
              "<tr>\n",
              "  <th>Intercept</th>       <td>    0.0266</td> <td>    0.439</td> <td>    0.060</td> <td> 0.952</td> <td>   -0.834</td> <td>    0.887</td>\n",
              "</tr>\n",
              "<tr>\n",
              "  <th>C(nyear)[T.4.0]</th> <td>   -0.4490</td> <td>    0.220</td> <td>   -2.043</td> <td> 0.041</td> <td>   -0.880</td> <td>   -0.018</td>\n",
              "</tr>\n",
              "<tr>\n",
              "  <th>sex</th>             <td>   -0.3062</td> <td>    0.206</td> <td>   -1.487</td> <td> 0.137</td> <td>   -0.710</td> <td>    0.097</td>\n",
              "</tr>\n",
              "<tr>\n",
              "  <th>age</th>             <td>   -0.0478</td> <td>    0.007</td> <td>   -6.612</td> <td> 0.000</td> <td>   -0.062</td> <td>   -0.034</td>\n",
              "</tr>\n",
              "<tr>\n",
              "  <th>degree</th>          <td>    0.1439</td> <td>    0.086</td> <td>    1.671</td> <td> 0.095</td> <td>   -0.025</td> <td>    0.313</td>\n",
              "</tr>\n",
              "</table>"
            ],
            "text/plain": [
              "<class 'statsmodels.iolib.summary.Summary'>\n",
              "\"\"\"\n",
              "                 Generalized Linear Model Regression Results                  \n",
              "==============================================================================\n",
              "Dep. Variable:                     av   No. Observations:                 1330\n",
              "Model:                            GLM   Df Residuals:                     1325\n",
              "Model Family:                Binomial   Df Model:                            4\n",
              "Link Function:                  Logit   Scale:                          1.0000\n",
              "Method:                          IRLS   Log-Likelihood:                -342.61\n",
              "Date:                Sat, 12 Nov 2022   Deviance:                       685.22\n",
              "Time:                        17:15:35   Pearson chi2:                 1.26e+03\n",
              "No. Iterations:                     6   Pseudo R-squ. (CS):            0.05051\n",
              "Covariance Type:            nonrobust                                         \n",
              "===================================================================================\n",
              "                      coef    std err          z      P>|z|      [0.025      0.975]\n",
              "-----------------------------------------------------------------------------------\n",
              "Intercept           0.0266      0.439      0.060      0.952      -0.834       0.887\n",
              "C(nyear)[T.4.0]    -0.4490      0.220     -2.043      0.041      -0.880      -0.018\n",
              "sex                -0.3062      0.206     -1.487      0.137      -0.710       0.097\n",
              "age                -0.0478      0.007     -6.612      0.000      -0.062      -0.034\n",
              "degree              0.1439      0.086      1.671      0.095      -0.025       0.313\n",
              "===================================================================================\n",
              "\"\"\""
            ]
          },
          "execution_count": 43,
          "metadata": {},
          "output_type": "execute_result"
        }
      ],
      "source": [
        "lo3 = smf.glm('av ~ C(nyear) + sex + age + degree', \n",
        "              data = subpt[(subpt.year > 2006) & (subpt.age > 18)],\n",
        "              family = sm.families.Binomial()).fit()\n",
        "lo3.summary()"
      ]
    },
    {
      "cell_type": "code",
      "execution_count": 42,
      "id": "b05a41d2-f112-40f7-90e1-8ac395e33615",
      "metadata": {},
      "outputs": [
        {
          "data": {
            "text/html": [
              "<table class=\"simpletable\">\n",
              "<caption>Generalized Linear Model Regression Results</caption>\n",
              "<tr>\n",
              "  <th>Dep. Variable:</th>          <td>av</td>        <th>  No. Observations:  </th>  <td>  1330</td> \n",
              "</tr>\n",
              "<tr>\n",
              "  <th>Model:</th>                  <td>GLM</td>       <th>  Df Residuals:      </th>  <td>  1324</td> \n",
              "</tr>\n",
              "<tr>\n",
              "  <th>Model Family:</th>        <td>Binomial</td>     <th>  Df Model:          </th>  <td>     5</td> \n",
              "</tr>\n",
              "<tr>\n",
              "  <th>Link Function:</th>         <td>Logit</td>      <th>  Scale:             </th> <td>  1.0000</td>\n",
              "</tr>\n",
              "<tr>\n",
              "  <th>Method:</th>                <td>IRLS</td>       <th>  Log-Likelihood:    </th> <td> -342.51</td>\n",
              "</tr>\n",
              "<tr>\n",
              "  <th>Date:</th>            <td>Sat, 12 Nov 2022</td> <th>  Deviance:          </th> <td>  685.02</td>\n",
              "</tr>\n",
              "<tr>\n",
              "  <th>Time:</th>                <td>17:14:59</td>     <th>  Pearson chi2:      </th> <td>1.26e+03</td>\n",
              "</tr>\n",
              "<tr>\n",
              "  <th>No. Iterations:</th>          <td>6</td>        <th>  Pseudo R-squ. (CS):</th>  <td>0.05065</td>\n",
              "</tr>\n",
              "<tr>\n",
              "  <th>Covariance Type:</th>     <td>nonrobust</td>    <th>                     </th>     <td> </td>   \n",
              "</tr>\n",
              "</table>\n",
              "<table class=\"simpletable\">\n",
              "<tr>\n",
              "                <td></td>                   <th>coef</th>     <th>std err</th>      <th>z</th>      <th>P>|z|</th>  <th>[0.025</th>    <th>0.975]</th>  \n",
              "</tr>\n",
              "<tr>\n",
              "  <th>Intercept</th>                     <td>   -0.3141</td> <td>    0.346</td> <td>   -0.907</td> <td> 0.364</td> <td>   -0.993</td> <td>    0.365</td>\n",
              "</tr>\n",
              "<tr>\n",
              "  <th>C(nyear)[T.4.0]</th>               <td>   -0.3509</td> <td>    0.309</td> <td>   -1.137</td> <td> 0.256</td> <td>   -0.956</td> <td>    0.254</td>\n",
              "</tr>\n",
              "<tr>\n",
              "  <th>C(sex)[T.2.0]</th>                 <td>   -0.2425</td> <td>    0.250</td> <td>   -0.968</td> <td> 0.333</td> <td>   -0.733</td> <td>    0.248</td>\n",
              "</tr>\n",
              "<tr>\n",
              "  <th>C(nyear)[T.4.0]:C(sex)[T.2.0]</th> <td>   -0.1961</td> <td>    0.439</td> <td>   -0.446</td> <td> 0.655</td> <td>   -1.057</td> <td>    0.665</td>\n",
              "</tr>\n",
              "<tr>\n",
              "  <th>age</th>                           <td>   -0.0478</td> <td>    0.007</td> <td>   -6.608</td> <td> 0.000</td> <td>   -0.062</td> <td>   -0.034</td>\n",
              "</tr>\n",
              "<tr>\n",
              "  <th>degree</th>                        <td>    0.1446</td> <td>    0.086</td> <td>    1.678</td> <td> 0.093</td> <td>   -0.024</td> <td>    0.314</td>\n",
              "</tr>\n",
              "</table>"
            ],
            "text/plain": [
              "<class 'statsmodels.iolib.summary.Summary'>\n",
              "\"\"\"\n",
              "                 Generalized Linear Model Regression Results                  \n",
              "==============================================================================\n",
              "Dep. Variable:                     av   No. Observations:                 1330\n",
              "Model:                            GLM   Df Residuals:                     1324\n",
              "Model Family:                Binomial   Df Model:                            5\n",
              "Link Function:                  Logit   Scale:                          1.0000\n",
              "Method:                          IRLS   Log-Likelihood:                -342.51\n",
              "Date:                Sat, 12 Nov 2022   Deviance:                       685.02\n",
              "Time:                        17:14:59   Pearson chi2:                 1.26e+03\n",
              "No. Iterations:                     6   Pseudo R-squ. (CS):            0.05065\n",
              "Covariance Type:            nonrobust                                         \n",
              "=================================================================================================\n",
              "                                    coef    std err          z      P>|z|      [0.025      0.975]\n",
              "-------------------------------------------------------------------------------------------------\n",
              "Intercept                        -0.3141      0.346     -0.907      0.364      -0.993       0.365\n",
              "C(nyear)[T.4.0]                  -0.3509      0.309     -1.137      0.256      -0.956       0.254\n",
              "C(sex)[T.2.0]                    -0.2425      0.250     -0.968      0.333      -0.733       0.248\n",
              "C(nyear)[T.4.0]:C(sex)[T.2.0]    -0.1961      0.439     -0.446      0.655      -1.057       0.665\n",
              "age                              -0.0478      0.007     -6.608      0.000      -0.062      -0.034\n",
              "degree                            0.1446      0.086      1.678      0.093      -0.024       0.314\n",
              "=================================================================================================\n",
              "\"\"\""
            ]
          },
          "execution_count": 42,
          "metadata": {},
          "output_type": "execute_result"
        }
      ],
      "source": [
        "lo4 = smf.glm('av ~ C(nyear)*C(sex) + age + degree', \n",
        "              data = subpt[(subpt.year > 2006) & (subpt.age > 18)],\n",
        "              family = sm.families.Binomial()).fit()\n",
        "lo4.summary()"
      ]
    },
    {
      "cell_type": "code",
      "execution_count": 48,
      "id": "dd640465-a028-4e52-992e-5587f8abf061",
      "metadata": {},
      "outputs": [],
      "source": [
        "subpt['av'] = np.where(pd.isna(subpt['marital']), np.nan, \n",
        "                     np.where(subpt['marital']==1, 1, 0))"
      ]
    },
    {
      "cell_type": "code",
      "execution_count": 49,
      "id": "f7f1943e-c72e-44f6-8d7e-86c3d2ae0b6a",
      "metadata": {},
      "outputs": [],
      "source": [
        "subpt['avt'] = np.where((((subpt['combo']=='20') & (subpt['year']==2010)) | \n",
        "                        ((subpt['combo']=='23') & (subpt['year']==2010))), 1,\n",
        "                       np.where((((subpt['combo']=='20') & (pd.isna(subpt['year'])))| \n",
        "                        ((subpt['combo']=='23') & (pd.isna(subpt['year'])))), np.nan, 0))"
      ]
    },
    {
      "cell_type": "code",
      "execution_count": 51,
      "id": "28a252eb-39a5-4690-8ce8-f0902a9add78",
      "metadata": {},
      "outputs": [
        {
          "data": {
            "text/html": [
              "<table class=\"simpletable\">\n",
              "<caption>Generalized Linear Model Regression Results</caption>\n",
              "<tr>\n",
              "  <th>Dep. Variable:</th>          <td>av</td>        <th>  No. Observations:  </th>  <td>  1405</td> \n",
              "</tr>\n",
              "<tr>\n",
              "  <th>Model:</th>                  <td>GLM</td>       <th>  Df Residuals:      </th>  <td>  1402</td> \n",
              "</tr>\n",
              "<tr>\n",
              "  <th>Model Family:</th>        <td>Binomial</td>     <th>  Df Model:          </th>  <td>     2</td> \n",
              "</tr>\n",
              "<tr>\n",
              "  <th>Link Function:</th>         <td>Logit</td>      <th>  Scale:             </th> <td>  1.0000</td>\n",
              "</tr>\n",
              "<tr>\n",
              "  <th>Method:</th>                <td>IRLS</td>       <th>  Log-Likelihood:    </th> <td> -406.31</td>\n",
              "</tr>\n",
              "<tr>\n",
              "  <th>Date:</th>            <td>Sat, 12 Nov 2022</td> <th>  Deviance:          </th> <td>  812.63</td>\n",
              "</tr>\n",
              "<tr>\n",
              "  <th>Time:</th>                <td>17:34:40</td>     <th>  Pearson chi2:      </th> <td>1.40e+03</td>\n",
              "</tr>\n",
              "<tr>\n",
              "  <th>No. Iterations:</th>          <td>6</td>        <th>  Pseudo R-squ. (CS):</th>  <td>0.1095</td> \n",
              "</tr>\n",
              "<tr>\n",
              "  <th>Covariance Type:</th>     <td>nonrobust</td>    <th>                     </th>     <td> </td>   \n",
              "</tr>\n",
              "</table>\n",
              "<table class=\"simpletable\">\n",
              "<tr>\n",
              "         <td></td>            <th>coef</th>     <th>std err</th>      <th>z</th>      <th>P>|z|</th>  <th>[0.025</th>    <th>0.975]</th>  \n",
              "</tr>\n",
              "<tr>\n",
              "  <th>Intercept</th>       <td>   -2.2307</td> <td>    0.122</td> <td>  -18.358</td> <td> 0.000</td> <td>   -2.469</td> <td>   -1.993</td>\n",
              "</tr>\n",
              "<tr>\n",
              "  <th>C(nyear)[T.4.0]</th> <td>   -0.5326</td> <td>    0.215</td> <td>   -2.482</td> <td> 0.013</td> <td>   -0.953</td> <td>   -0.112</td>\n",
              "</tr>\n",
              "<tr>\n",
              "  <th>avt</th>             <td>    4.0270</td> <td>    0.360</td> <td>   11.172</td> <td> 0.000</td> <td>    3.321</td> <td>    4.734</td>\n",
              "</tr>\n",
              "</table>"
            ],
            "text/plain": [
              "<class 'statsmodels.iolib.summary.Summary'>\n",
              "\"\"\"\n",
              "                 Generalized Linear Model Regression Results                  \n",
              "==============================================================================\n",
              "Dep. Variable:                     av   No. Observations:                 1405\n",
              "Model:                            GLM   Df Residuals:                     1402\n",
              "Model Family:                Binomial   Df Model:                            2\n",
              "Link Function:                  Logit   Scale:                          1.0000\n",
              "Method:                          IRLS   Log-Likelihood:                -406.31\n",
              "Date:                Sat, 12 Nov 2022   Deviance:                       812.63\n",
              "Time:                        17:34:40   Pearson chi2:                 1.40e+03\n",
              "No. Iterations:                     6   Pseudo R-squ. (CS):             0.1095\n",
              "Covariance Type:            nonrobust                                         \n",
              "===================================================================================\n",
              "                      coef    std err          z      P>|z|      [0.025      0.975]\n",
              "-----------------------------------------------------------------------------------\n",
              "Intercept          -2.2307      0.122    -18.358      0.000      -2.469      -1.993\n",
              "C(nyear)[T.4.0]    -0.5326      0.215     -2.482      0.013      -0.953      -0.112\n",
              "avt                 4.0270      0.360     11.172      0.000       3.321       4.734\n",
              "===================================================================================\n",
              "\"\"\""
            ]
          },
          "execution_count": 51,
          "metadata": {},
          "output_type": "execute_result"
        }
      ],
      "source": [
        "lo5 = smf.glm('av ~ C(nyear) + avt', data = subpt[subpt['year']>2006], family = sm.families.Binomial()).fit()\n",
        "lo5.summary()"
      ]
    },
    {
      "cell_type": "code",
      "execution_count": null,
      "id": "8908c371-8338-4ca4-bcbd-fe851b53411a",
      "metadata": {},
      "outputs": [],
      "source": []
    }
  ],
  "metadata": {
    "kernelspec": {
      "display_name": "Python 3 (ipykernel)",
      "language": "python",
      "name": "python3"
    },
    "language_info": {
      "codemirror_mode": {
        "name": "ipython",
        "version": 3
      },
      "file_extension": ".py",
      "mimetype": "text/x-python",
      "name": "python",
      "nbconvert_exporter": "python",
      "pygments_lexer": "ipython3",
      "version": "3.9.12"
    }
  },
  "nbformat": 4,
  "nbformat_minor": 5
}